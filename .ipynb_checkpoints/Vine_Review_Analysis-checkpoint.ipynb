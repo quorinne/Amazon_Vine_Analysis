{
 "cells": [
  {
   "cell_type": "code",
   "execution_count": 18,
   "id": "923712dd",
   "metadata": {},
   "outputs": [],
   "source": [
    "import pandas as pd"
   ]
  },
  {
   "cell_type": "code",
   "execution_count": 19,
   "id": "8da7a21f",
   "metadata": {},
   "outputs": [
    {
     "data": {
      "text/html": [
       "<div>\n",
       "<style scoped>\n",
       "    .dataframe tbody tr th:only-of-type {\n",
       "        vertical-align: middle;\n",
       "    }\n",
       "\n",
       "    .dataframe tbody tr th {\n",
       "        vertical-align: top;\n",
       "    }\n",
       "\n",
       "    .dataframe thead th {\n",
       "        text-align: right;\n",
       "    }\n",
       "</style>\n",
       "<table border=\"1\" class=\"dataframe\">\n",
       "  <thead>\n",
       "    <tr style=\"text-align: right;\">\n",
       "      <th></th>\n",
       "      <th>review_id</th>\n",
       "      <th>star_rating</th>\n",
       "      <th>helpful_votes</th>\n",
       "      <th>total_votes</th>\n",
       "      <th>vine</th>\n",
       "      <th>verified_purchase</th>\n",
       "    </tr>\n",
       "  </thead>\n",
       "  <tbody>\n",
       "    <tr>\n",
       "      <th>0</th>\n",
       "      <td>RTIS3L2M1F5SM</td>\n",
       "      <td>5</td>\n",
       "      <td>0</td>\n",
       "      <td>0</td>\n",
       "      <td>N</td>\n",
       "      <td>Y</td>\n",
       "    </tr>\n",
       "    <tr>\n",
       "      <th>1</th>\n",
       "      <td>R1ZV7R40OLHKD</td>\n",
       "      <td>5</td>\n",
       "      <td>0</td>\n",
       "      <td>0</td>\n",
       "      <td>N</td>\n",
       "      <td>Y</td>\n",
       "    </tr>\n",
       "    <tr>\n",
       "      <th>2</th>\n",
       "      <td>R3BH071QLH8QMC</td>\n",
       "      <td>1</td>\n",
       "      <td>0</td>\n",
       "      <td>1</td>\n",
       "      <td>N</td>\n",
       "      <td>Y</td>\n",
       "    </tr>\n",
       "    <tr>\n",
       "      <th>3</th>\n",
       "      <td>R127K9NTSXA2YH</td>\n",
       "      <td>3</td>\n",
       "      <td>0</td>\n",
       "      <td>0</td>\n",
       "      <td>N</td>\n",
       "      <td>Y</td>\n",
       "    </tr>\n",
       "    <tr>\n",
       "      <th>4</th>\n",
       "      <td>R32ZWUXDJPW27Q</td>\n",
       "      <td>4</td>\n",
       "      <td>0</td>\n",
       "      <td>0</td>\n",
       "      <td>N</td>\n",
       "      <td>Y</td>\n",
       "    </tr>\n",
       "    <tr>\n",
       "      <th>...</th>\n",
       "      <td>...</td>\n",
       "      <td>...</td>\n",
       "      <td>...</td>\n",
       "      <td>...</td>\n",
       "      <td>...</td>\n",
       "      <td>...</td>\n",
       "    </tr>\n",
       "    <tr>\n",
       "      <th>1785992</th>\n",
       "      <td>RPC430LWZJ60T</td>\n",
       "      <td>5</td>\n",
       "      <td>1</td>\n",
       "      <td>1</td>\n",
       "      <td>N</td>\n",
       "      <td>N</td>\n",
       "    </tr>\n",
       "    <tr>\n",
       "      <th>1785993</th>\n",
       "      <td>R347MZT5FH6HRJ</td>\n",
       "      <td>5</td>\n",
       "      <td>2</td>\n",
       "      <td>2</td>\n",
       "      <td>N</td>\n",
       "      <td>N</td>\n",
       "    </tr>\n",
       "    <tr>\n",
       "      <th>1785994</th>\n",
       "      <td>RJ5BETZP0VIUS</td>\n",
       "      <td>1</td>\n",
       "      <td>0</td>\n",
       "      <td>2</td>\n",
       "      <td>N</td>\n",
       "      <td>N</td>\n",
       "    </tr>\n",
       "    <tr>\n",
       "      <th>1785995</th>\n",
       "      <td>R85QTDO2KZMGO</td>\n",
       "      <td>1</td>\n",
       "      <td>1</td>\n",
       "      <td>3</td>\n",
       "      <td>N</td>\n",
       "      <td>N</td>\n",
       "    </tr>\n",
       "    <tr>\n",
       "      <th>1785996</th>\n",
       "      <td>R2W36RZZZNTYWF</td>\n",
       "      <td>5</td>\n",
       "      <td>1</td>\n",
       "      <td>1</td>\n",
       "      <td>N</td>\n",
       "      <td>N</td>\n",
       "    </tr>\n",
       "  </tbody>\n",
       "</table>\n",
       "<p>1785997 rows × 6 columns</p>\n",
       "</div>"
      ],
      "text/plain": [
       "              review_id  star_rating  helpful_votes  total_votes vine  \\\n",
       "0         RTIS3L2M1F5SM            5              0            0    N   \n",
       "1         R1ZV7R40OLHKD            5              0            0    N   \n",
       "2        R3BH071QLH8QMC            1              0            1    N   \n",
       "3        R127K9NTSXA2YH            3              0            0    N   \n",
       "4        R32ZWUXDJPW27Q            4              0            0    N   \n",
       "...                 ...          ...            ...          ...  ...   \n",
       "1785992   RPC430LWZJ60T            5              1            1    N   \n",
       "1785993  R347MZT5FH6HRJ            5              2            2    N   \n",
       "1785994   RJ5BETZP0VIUS            1              0            2    N   \n",
       "1785995   R85QTDO2KZMGO            1              1            3    N   \n",
       "1785996  R2W36RZZZNTYWF            5              1            1    N   \n",
       "\n",
       "        verified_purchase  \n",
       "0                       Y  \n",
       "1                       Y  \n",
       "2                       Y  \n",
       "3                       Y  \n",
       "4                       Y  \n",
       "...                   ...  \n",
       "1785992                 N  \n",
       "1785993                 N  \n",
       "1785994                 N  \n",
       "1785995                 N  \n",
       "1785996                 N  \n",
       "\n",
       "[1785997 rows x 6 columns]"
      ]
     },
     "execution_count": 19,
     "metadata": {},
     "output_type": "execute_result"
    }
   ],
   "source": [
    "vine = pd.read_csv(\"vine_table.csv\")\n",
    "vine"
   ]
  },
  {
   "cell_type": "code",
   "execution_count": 20,
   "id": "5610799e",
   "metadata": {},
   "outputs": [
    {
     "data": {
      "text/plain": [
       "review_id            object\n",
       "star_rating           int64\n",
       "helpful_votes         int64\n",
       "total_votes           int64\n",
       "vine                 object\n",
       "verified_purchase    object\n",
       "dtype: object"
      ]
     },
     "execution_count": 20,
     "metadata": {},
     "output_type": "execute_result"
    }
   ],
   "source": [
    "vine.dtypes"
   ]
  },
  {
   "cell_type": "code",
   "execution_count": 21,
   "id": "90ba4f0d",
   "metadata": {},
   "outputs": [],
   "source": [
    "tv20 =vine.loc[vine[\"total_votes\"]>= 20]"
   ]
  },
  {
   "cell_type": "code",
   "execution_count": 22,
   "id": "081000b3",
   "metadata": {},
   "outputs": [
    {
     "data": {
      "text/html": [
       "<div>\n",
       "<style scoped>\n",
       "    .dataframe tbody tr th:only-of-type {\n",
       "        vertical-align: middle;\n",
       "    }\n",
       "\n",
       "    .dataframe tbody tr th {\n",
       "        vertical-align: top;\n",
       "    }\n",
       "\n",
       "    .dataframe thead th {\n",
       "        text-align: right;\n",
       "    }\n",
       "</style>\n",
       "<table border=\"1\" class=\"dataframe\">\n",
       "  <thead>\n",
       "    <tr style=\"text-align: right;\">\n",
       "      <th></th>\n",
       "      <th>review_id</th>\n",
       "      <th>star_rating</th>\n",
       "      <th>helpful_votes</th>\n",
       "      <th>total_votes</th>\n",
       "      <th>vine</th>\n",
       "      <th>verified_purchase</th>\n",
       "    </tr>\n",
       "  </thead>\n",
       "  <tbody>\n",
       "    <tr>\n",
       "      <th>55</th>\n",
       "      <td>R4PKAZRQJJX14</td>\n",
       "      <td>1</td>\n",
       "      <td>21</td>\n",
       "      <td>34</td>\n",
       "      <td>N</td>\n",
       "      <td>N</td>\n",
       "    </tr>\n",
       "    <tr>\n",
       "      <th>74</th>\n",
       "      <td>R2CI0Y288CC7E2</td>\n",
       "      <td>1</td>\n",
       "      <td>21</td>\n",
       "      <td>35</td>\n",
       "      <td>N</td>\n",
       "      <td>Y</td>\n",
       "    </tr>\n",
       "    <tr>\n",
       "      <th>209</th>\n",
       "      <td>R127WEQY2FM1T3</td>\n",
       "      <td>1</td>\n",
       "      <td>147</td>\n",
       "      <td>175</td>\n",
       "      <td>N</td>\n",
       "      <td>Y</td>\n",
       "    </tr>\n",
       "    <tr>\n",
       "      <th>289</th>\n",
       "      <td>R3EZ0EPYLDA34S</td>\n",
       "      <td>1</td>\n",
       "      <td>14</td>\n",
       "      <td>31</td>\n",
       "      <td>N</td>\n",
       "      <td>Y</td>\n",
       "    </tr>\n",
       "    <tr>\n",
       "      <th>483</th>\n",
       "      <td>R2FJ94555FZH32</td>\n",
       "      <td>2</td>\n",
       "      <td>55</td>\n",
       "      <td>60</td>\n",
       "      <td>N</td>\n",
       "      <td>N</td>\n",
       "    </tr>\n",
       "    <tr>\n",
       "      <th>...</th>\n",
       "      <td>...</td>\n",
       "      <td>...</td>\n",
       "      <td>...</td>\n",
       "      <td>...</td>\n",
       "      <td>...</td>\n",
       "      <td>...</td>\n",
       "    </tr>\n",
       "    <tr>\n",
       "      <th>1785688</th>\n",
       "      <td>R3GYUWLD9FWCPS</td>\n",
       "      <td>5</td>\n",
       "      <td>30</td>\n",
       "      <td>30</td>\n",
       "      <td>N</td>\n",
       "      <td>N</td>\n",
       "    </tr>\n",
       "    <tr>\n",
       "      <th>1785714</th>\n",
       "      <td>R26KS4Q9G04FIV</td>\n",
       "      <td>2</td>\n",
       "      <td>8</td>\n",
       "      <td>21</td>\n",
       "      <td>N</td>\n",
       "      <td>N</td>\n",
       "    </tr>\n",
       "    <tr>\n",
       "      <th>1785788</th>\n",
       "      <td>RU0J1ZMBCLD27</td>\n",
       "      <td>5</td>\n",
       "      <td>27</td>\n",
       "      <td>29</td>\n",
       "      <td>N</td>\n",
       "      <td>N</td>\n",
       "    </tr>\n",
       "    <tr>\n",
       "      <th>1785806</th>\n",
       "      <td>R1D69XH2THYKTG</td>\n",
       "      <td>5</td>\n",
       "      <td>18</td>\n",
       "      <td>20</td>\n",
       "      <td>N</td>\n",
       "      <td>N</td>\n",
       "    </tr>\n",
       "    <tr>\n",
       "      <th>1785935</th>\n",
       "      <td>R3U5C85OV6BUKM</td>\n",
       "      <td>4</td>\n",
       "      <td>38</td>\n",
       "      <td>43</td>\n",
       "      <td>N</td>\n",
       "      <td>N</td>\n",
       "    </tr>\n",
       "  </tbody>\n",
       "</table>\n",
       "<p>65379 rows × 6 columns</p>\n",
       "</div>"
      ],
      "text/plain": [
       "              review_id  star_rating  helpful_votes  total_votes vine  \\\n",
       "55        R4PKAZRQJJX14            1             21           34    N   \n",
       "74       R2CI0Y288CC7E2            1             21           35    N   \n",
       "209      R127WEQY2FM1T3            1            147          175    N   \n",
       "289      R3EZ0EPYLDA34S            1             14           31    N   \n",
       "483      R2FJ94555FZH32            2             55           60    N   \n",
       "...                 ...          ...            ...          ...  ...   \n",
       "1785688  R3GYUWLD9FWCPS            5             30           30    N   \n",
       "1785714  R26KS4Q9G04FIV            2              8           21    N   \n",
       "1785788   RU0J1ZMBCLD27            5             27           29    N   \n",
       "1785806  R1D69XH2THYKTG            5             18           20    N   \n",
       "1785935  R3U5C85OV6BUKM            4             38           43    N   \n",
       "\n",
       "        verified_purchase  \n",
       "55                      N  \n",
       "74                      Y  \n",
       "209                     Y  \n",
       "289                     Y  \n",
       "483                     N  \n",
       "...                   ...  \n",
       "1785688                 N  \n",
       "1785714                 N  \n",
       "1785788                 N  \n",
       "1785806                 N  \n",
       "1785935                 N  \n",
       "\n",
       "[65379 rows x 6 columns]"
      ]
     },
     "execution_count": 22,
     "metadata": {},
     "output_type": "execute_result"
    }
   ],
   "source": [
    "tv20"
   ]
  },
  {
   "cell_type": "code",
   "execution_count": 23,
   "id": "7298b4e8",
   "metadata": {},
   "outputs": [
    {
     "data": {
      "text/html": [
       "<div>\n",
       "<style scoped>\n",
       "    .dataframe tbody tr th:only-of-type {\n",
       "        vertical-align: middle;\n",
       "    }\n",
       "\n",
       "    .dataframe tbody tr th {\n",
       "        vertical-align: top;\n",
       "    }\n",
       "\n",
       "    .dataframe thead th {\n",
       "        text-align: right;\n",
       "    }\n",
       "</style>\n",
       "<table border=\"1\" class=\"dataframe\">\n",
       "  <thead>\n",
       "    <tr style=\"text-align: right;\">\n",
       "      <th></th>\n",
       "      <th>review_id</th>\n",
       "      <th>star_rating</th>\n",
       "      <th>helpful_votes</th>\n",
       "      <th>total_votes</th>\n",
       "      <th>vine</th>\n",
       "      <th>verified_purchase</th>\n",
       "    </tr>\n",
       "  </thead>\n",
       "  <tbody>\n",
       "    <tr>\n",
       "      <th>55</th>\n",
       "      <td>R4PKAZRQJJX14</td>\n",
       "      <td>1</td>\n",
       "      <td>21</td>\n",
       "      <td>34</td>\n",
       "      <td>N</td>\n",
       "      <td>N</td>\n",
       "    </tr>\n",
       "    <tr>\n",
       "      <th>74</th>\n",
       "      <td>R2CI0Y288CC7E2</td>\n",
       "      <td>1</td>\n",
       "      <td>21</td>\n",
       "      <td>35</td>\n",
       "      <td>N</td>\n",
       "      <td>Y</td>\n",
       "    </tr>\n",
       "    <tr>\n",
       "      <th>209</th>\n",
       "      <td>R127WEQY2FM1T3</td>\n",
       "      <td>1</td>\n",
       "      <td>147</td>\n",
       "      <td>175</td>\n",
       "      <td>N</td>\n",
       "      <td>Y</td>\n",
       "    </tr>\n",
       "    <tr>\n",
       "      <th>483</th>\n",
       "      <td>R2FJ94555FZH32</td>\n",
       "      <td>2</td>\n",
       "      <td>55</td>\n",
       "      <td>60</td>\n",
       "      <td>N</td>\n",
       "      <td>N</td>\n",
       "    </tr>\n",
       "    <tr>\n",
       "      <th>537</th>\n",
       "      <td>R1U3AR67RE273L</td>\n",
       "      <td>1</td>\n",
       "      <td>51</td>\n",
       "      <td>65</td>\n",
       "      <td>N</td>\n",
       "      <td>Y</td>\n",
       "    </tr>\n",
       "    <tr>\n",
       "      <th>...</th>\n",
       "      <td>...</td>\n",
       "      <td>...</td>\n",
       "      <td>...</td>\n",
       "      <td>...</td>\n",
       "      <td>...</td>\n",
       "      <td>...</td>\n",
       "    </tr>\n",
       "    <tr>\n",
       "      <th>1785641</th>\n",
       "      <td>RCMDCDJR16IKW</td>\n",
       "      <td>4</td>\n",
       "      <td>27</td>\n",
       "      <td>30</td>\n",
       "      <td>N</td>\n",
       "      <td>N</td>\n",
       "    </tr>\n",
       "    <tr>\n",
       "      <th>1785688</th>\n",
       "      <td>R3GYUWLD9FWCPS</td>\n",
       "      <td>5</td>\n",
       "      <td>30</td>\n",
       "      <td>30</td>\n",
       "      <td>N</td>\n",
       "      <td>N</td>\n",
       "    </tr>\n",
       "    <tr>\n",
       "      <th>1785788</th>\n",
       "      <td>RU0J1ZMBCLD27</td>\n",
       "      <td>5</td>\n",
       "      <td>27</td>\n",
       "      <td>29</td>\n",
       "      <td>N</td>\n",
       "      <td>N</td>\n",
       "    </tr>\n",
       "    <tr>\n",
       "      <th>1785806</th>\n",
       "      <td>R1D69XH2THYKTG</td>\n",
       "      <td>5</td>\n",
       "      <td>18</td>\n",
       "      <td>20</td>\n",
       "      <td>N</td>\n",
       "      <td>N</td>\n",
       "    </tr>\n",
       "    <tr>\n",
       "      <th>1785935</th>\n",
       "      <td>R3U5C85OV6BUKM</td>\n",
       "      <td>4</td>\n",
       "      <td>38</td>\n",
       "      <td>43</td>\n",
       "      <td>N</td>\n",
       "      <td>N</td>\n",
       "    </tr>\n",
       "  </tbody>\n",
       "</table>\n",
       "<p>40565 rows × 6 columns</p>\n",
       "</div>"
      ],
      "text/plain": [
       "              review_id  star_rating  helpful_votes  total_votes vine  \\\n",
       "55        R4PKAZRQJJX14            1             21           34    N   \n",
       "74       R2CI0Y288CC7E2            1             21           35    N   \n",
       "209      R127WEQY2FM1T3            1            147          175    N   \n",
       "483      R2FJ94555FZH32            2             55           60    N   \n",
       "537      R1U3AR67RE273L            1             51           65    N   \n",
       "...                 ...          ...            ...          ...  ...   \n",
       "1785641   RCMDCDJR16IKW            4             27           30    N   \n",
       "1785688  R3GYUWLD9FWCPS            5             30           30    N   \n",
       "1785788   RU0J1ZMBCLD27            5             27           29    N   \n",
       "1785806  R1D69XH2THYKTG            5             18           20    N   \n",
       "1785935  R3U5C85OV6BUKM            4             38           43    N   \n",
       "\n",
       "        verified_purchase  \n",
       "55                      N  \n",
       "74                      Y  \n",
       "209                     Y  \n",
       "483                     N  \n",
       "537                     Y  \n",
       "...                   ...  \n",
       "1785641                 N  \n",
       "1785688                 N  \n",
       "1785788                 N  \n",
       "1785806                 N  \n",
       "1785935                 N  \n",
       "\n",
       "[40565 rows x 6 columns]"
      ]
     },
     "execution_count": 23,
     "metadata": {},
     "output_type": "execute_result"
    }
   ],
   "source": [
    "# create a new DataFrame or table to retrieve all the rows \n",
    "# where the number of helpful_votes divided by \n",
    "# total_votes is equal to or greater than 50%.\n",
    "\n",
    "hv = tv20.loc[(tv20[\"helpful_votes\"]/tv20[\"total_votes\"] >= 0.5)]\n",
    "hv"
   ]
  },
  {
   "cell_type": "code",
   "execution_count": 24,
   "id": "5c848a58",
   "metadata": {},
   "outputs": [],
   "source": [
    "# create a new DataFrame or table that retrieves \n",
    "# all the rows where a review was written as part of \n",
    "# the Vine program (paid), vine == 'Y'.\n",
    "\n",
    "paid = hv.loc[hv[\"vine\"]==\"Y\"]\n",
    "\n"
   ]
  },
  {
   "cell_type": "code",
   "execution_count": 25,
   "id": "bd3b92a1",
   "metadata": {},
   "outputs": [
    {
     "data": {
      "text/plain": [
       "review_id            94\n",
       "star_rating          94\n",
       "helpful_votes        94\n",
       "total_votes          94\n",
       "vine                 94\n",
       "verified_purchase    94\n",
       "dtype: int64"
      ]
     },
     "execution_count": 25,
     "metadata": {},
     "output_type": "execute_result"
    }
   ],
   "source": [
    "paid.count()"
   ]
  },
  {
   "cell_type": "code",
   "execution_count": 26,
   "id": "13f12a01",
   "metadata": {},
   "outputs": [],
   "source": [
    "# retrieve all the rows where the review was not part of \n",
    "# the Vine program (unpaid), vine == 'N'.\n",
    "\n",
    "unpaid = hv.loc[hv[\"vine\"]==\"N\"]"
   ]
  },
  {
   "cell_type": "code",
   "execution_count": 27,
   "id": "1b319f3c",
   "metadata": {},
   "outputs": [
    {
     "data": {
      "text/plain": [
       "review_id            40471\n",
       "star_rating          40471\n",
       "helpful_votes        40471\n",
       "total_votes          40471\n",
       "vine                 40471\n",
       "verified_purchase    40471\n",
       "dtype: int64"
      ]
     },
     "execution_count": 27,
     "metadata": {},
     "output_type": "execute_result"
    }
   ],
   "source": [
    "unpaid.count()"
   ]
  },
  {
   "cell_type": "code",
   "execution_count": 28,
   "id": "d8088c38",
   "metadata": {},
   "outputs": [
    {
     "data": {
      "text/plain": [
       "51.06382978723404"
      ]
     },
     "execution_count": 28,
     "metadata": {},
     "output_type": "execute_result"
    }
   ],
   "source": [
    "# Determine the total number of reviews, the number of 5-star\n",
    "# reviews, and the percentage of 5-star reviews for the two \n",
    "# types of review (paid vs unpaid).\n",
    "\n",
    "\n",
    "\n",
    "# total number of paid reviews\n",
    "paid_total_star = paid[\"star_rating\"].count()\n",
    "\n",
    "# total 5 star paid reviews\n",
    "paid_five_star = paid.loc[(paid[\"star_rating\"]== 5)][\"star_rating\"].count()\n",
    "\n",
    "# percentage of 5 star paid reviews\n",
    "\n",
    "percentage_five_star = (paid_five_star/ paid_total_star) * 100\n",
    "\n",
    "percentage_five_star\n"
   ]
  },
  {
   "cell_type": "code",
   "execution_count": 30,
   "id": "0c45ae23",
   "metadata": {},
   "outputs": [
    {
     "data": {
      "text/plain": [
       "48"
      ]
     },
     "execution_count": 30,
     "metadata": {},
     "output_type": "execute_result"
    }
   ],
   "source": [
    "paid_five_star"
   ]
  },
  {
   "cell_type": "code",
   "execution_count": 31,
   "id": "caba937c",
   "metadata": {},
   "outputs": [
    {
     "data": {
      "text/plain": [
       "38.701786464381904"
      ]
     },
     "execution_count": 31,
     "metadata": {},
     "output_type": "execute_result"
    }
   ],
   "source": [
    "# total number of unpaid reviews\n",
    "unpaid_total_star = unpaid[\"star_rating\"].count()\n",
    "\n",
    "# total 5 star paid reviews\n",
    "unpaid_five_star = unpaid.loc[(unpaid[\"star_rating\"]== 5)][\"star_rating\"].count()\n",
    "\n",
    "# percentage of 5 star paid reviews\n",
    "\n",
    "unpercentage_five_star = (unpaid_five_star/ unpaid_total_star) * 100\n",
    "\n",
    "unpercentage_five_star"
   ]
  },
  {
   "cell_type": "code",
   "execution_count": 32,
   "id": "a57abb6a",
   "metadata": {},
   "outputs": [
    {
     "data": {
      "text/plain": [
       "15663"
      ]
     },
     "execution_count": 32,
     "metadata": {},
     "output_type": "execute_result"
    }
   ],
   "source": [
    "unpaid_five_star"
   ]
  },
  {
   "cell_type": "code",
   "execution_count": 14,
   "id": "fb00f151",
   "metadata": {},
   "outputs": [
    {
     "data": {
      "text/plain": [
       "48"
      ]
     },
     "execution_count": 14,
     "metadata": {},
     "output_type": "execute_result"
    }
   ],
   "source": []
  }
 ],
 "metadata": {
  "kernelspec": {
   "display_name": "PythonData",
   "language": "python",
   "name": "pythondata"
  },
  "language_info": {
   "codemirror_mode": {
    "name": "ipython",
    "version": 3
   },
   "file_extension": ".py",
   "mimetype": "text/x-python",
   "name": "python",
   "nbconvert_exporter": "python",
   "pygments_lexer": "ipython3",
   "version": "3.7.11"
  }
 },
 "nbformat": 4,
 "nbformat_minor": 5
}
